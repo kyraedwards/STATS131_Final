{
 "cells": [
  {
   "cell_type": "markdown",
   "metadata": {},
   "source": [
    "# Background"
   ]
  },
  {
   "cell_type": "markdown",
   "metadata": {},
   "source": [
    "Uber is an increasingly popular ride-share app used in many large US cities, including New York City. Riders request a pick-up in the form of pool (where other rides can be picked up and dropped off on the way), X (a private 4-person car), or XL (a private 6 or 7-person car). Common reasons people use Uber are lack of public transportation (common in LA), lack of private transportation (common in NYC), avoiding drunk driving, lack of parking at destination, cost efficiency, and going to the airport, among many other reasons."
   ]
  },
  {
   "cell_type": "markdown",
   "metadata": {},
   "source": [
    "### Uber Dataset"
   ]
  },
  {
   "cell_type": "markdown",
   "metadata": {},
   "source": [
    "This specific data set from Yannis Pappas found on Kaggle is called \"NYC Uber Pickups with Weather and Holidays\". Yannis Pappas took a subset of the data from FiveThirtyEight's \"Uber Pickups in New York City\" that originally had from 20 million ride-shares. He combined it with weather data from the National Centers for Environmental Information and NYC Public Holidays.\n",
    "\n",
    "The purpose of the data set was to show trends in uber pickups with different weather and holiday variables.\n",
    "\n",
    "The data covers each day of January through June in 2015 and groups pickups by the hour and borough they are called in. For example, the first line is January 1st, 2015 from midnight to 1 am in the Bronx. The rest of the variables in the first row are based on this date, time, and place."
   ]
  },
  {
   "cell_type": "markdown",
   "metadata": {},
   "source": [
    "### Variables"
   ]
  },
  {
   "cell_type": "markdown",
   "metadata": {},
   "source": [
    "    *pickup_dt*: Pick-up date & time\n",
    "    Pandas datetime object\n",
    "    The date and hour that the group of pick-ups occured, pre-grouped by hour\n",
    "    Units: time (MM/DD/YYYY HH:MM)\n",
    "\n",
    "    *borough*: NYC Borough\n",
    "    Categorical\n",
    "    New York City is split into 5 boroughs, but this variables also includes Newark Airport\n",
    "    Categories: Bronx, Brooklyn, Manhattan, Queens, Staten Island, EWR\n",
    "\n",
    "    *pickups*: Number of Pick-ups\n",
    "    Integer (int64)\n",
    "    The number of Uber pick-ups in the specified borough and the pickup_dt, pre-grouped by hour\n",
    "    Units: none\n",
    "\n",
    "    *windspeed*: Windspeed\n",
    "    Numeric (float64)\n",
    "    The average windspeed in the specified borough at that hour\n",
    "    Units: miles/hour\n",
    "\n",
    "    *visibility*: Visibility\n",
    "    Numeric (float64)\n",
    "    Visibility in miles rounded to the nearest tenth - \"the distance one can see as determined by light and weather conditions\"\n",
    "    Units: miles\n",
    "\n",
    "    *temp*: Temperature\n",
    "    Numeric (float64)\n",
    "    The temperature outside\n",
    "    Units: degrees Fahrenheit\n",
    "\n",
    "    *dewpoint*: Dew Point\n",
    "    Numeric (float64)\n",
    "    Dew point temperature - \"the atmospheric temperature (varying according to pressure and humidity) below which water droplets begin to condense and dew can form\"\n",
    "    Units: degrees Fahrenheit\n",
    "\n",
    "    *slpressure*: Sea Level Pressure\n",
    "    Numeric (float64)\n",
    "    The average atmospheric pressure at sea level\n",
    "    Units: mbar\n",
    "\n",
    "    *pcp01*: 1-hour liquid precipitation\n",
    "    Numeric (float64)\n",
    "    Amount of rainfall in the past 1 hour\n",
    "    Units: inches\n",
    "\n",
    "    *pcp06*: 6-hour liquid precipitation\n",
    "    Numeric (float64)\n",
    "    Amount of rainfall in the past 6 hours\n",
    "    Units: inches\n",
    "    \n",
    "    *pcp24*: 24-hour liquid precipitation\n",
    "    Numeric (float64)\n",
    "    Amount of rainfall in the past 24 hours\n",
    "    Units: inches\n",
    "    \n",
    "    *snow*: Snow\n",
    "    Numeric (float64)\n",
    "    Amount of snow fall depth in inches\n",
    "    Units: inches\n",
    "    \n",
    "    *holiday*: Holiday\n",
    "    Categorical\n",
    "    Whether the specified day in pickup_dt is a holiday or not, uses yes/no response\n",
    "    Categories: Y, N"
   ]
  },
  {
   "cell_type": "markdown",
   "metadata": {},
   "source": [
    "### Pre-Analysis Thoughts"
   ]
  },
  {
   "cell_type": "markdown",
   "metadata": {},
   "source": [
    "Based on our personal experiences with Uber, an app our group and many other college students frequently use, we believe that worse weather will correlate with an increase in pickups. We also believe that there will be less pickups on holidays than non-holidays.\n",
    "\n",
    "The reasoning behind these beliefs is that in a city, walking is fairly common due to the density and proximity of stores, work, and other necessities. When it is raining, snowing, or otherwise bad weater, it makes sense to Uber instead of walking in bad weather. Temperature will most likely not show a difference in pick-ups, but we believe that windspeed, precipitation, and snow will.\n",
    "\n",
    "We believe there will be less pickups on holidays because people usually stay home on the holidays. Masses of people travel on the days right before and right after holidays but generally not on actual holidays. This is why we believe there will be less pickups on those days."
   ]
  },
  {
   "cell_type": "markdown",
   "metadata": {},
   "source": [
    "# Exploratory Analysis of the Data"
   ]
  },
  {
   "cell_type": "code",
   "execution_count": null,
   "metadata": {},
   "outputs": [],
   "source": [
    "import pandas as pd\n",
    "import numpy as np\n",
    "import matplotlib.pyplot as plt\n",
    "import seaborn as sns"
   ]
  },
  {
   "cell_type": "code",
   "execution_count": 2,
   "metadata": {},
   "outputs": [],
   "source": [
    "uber = pd.read_csv('uber_nyc_enriched.csv')"
   ]
  },
  {
   "cell_type": "code",
   "execution_count": 19,
   "metadata": {},
   "outputs": [
    {
     "data": {
      "text/html": [
       "<div>\n",
       "<style scoped>\n",
       "    .dataframe tbody tr th:only-of-type {\n",
       "        vertical-align: middle;\n",
       "    }\n",
       "\n",
       "    .dataframe tbody tr th {\n",
       "        vertical-align: top;\n",
       "    }\n",
       "\n",
       "    .dataframe thead th {\n",
       "        text-align: right;\n",
       "    }\n",
       "</style>\n",
       "<table border=\"1\" class=\"dataframe\">\n",
       "  <thead>\n",
       "    <tr style=\"text-align: right;\">\n",
       "      <th></th>\n",
       "      <th>pickup_dt</th>\n",
       "      <th>borough</th>\n",
       "      <th>pickups</th>\n",
       "      <th>windspeed</th>\n",
       "      <th>visibility</th>\n",
       "      <th>temp</th>\n",
       "      <th>dewpoint</th>\n",
       "      <th>slpressure</th>\n",
       "      <th>pcp01</th>\n",
       "      <th>pcp06</th>\n",
       "      <th>pcp24</th>\n",
       "      <th>snow</th>\n",
       "      <th>holiday</th>\n",
       "    </tr>\n",
       "  </thead>\n",
       "  <tbody>\n",
       "    <tr>\n",
       "      <th>0</th>\n",
       "      <td>2015-01-01 01:00:00</td>\n",
       "      <td>Bronx</td>\n",
       "      <td>152</td>\n",
       "      <td>5.0</td>\n",
       "      <td>10.0</td>\n",
       "      <td>30.0</td>\n",
       "      <td>7.0</td>\n",
       "      <td>1023.5</td>\n",
       "      <td>0.0</td>\n",
       "      <td>0.0</td>\n",
       "      <td>0.0</td>\n",
       "      <td>0.0</td>\n",
       "      <td>Y</td>\n",
       "    </tr>\n",
       "    <tr>\n",
       "      <th>1</th>\n",
       "      <td>2015-01-01 01:00:00</td>\n",
       "      <td>Brooklyn</td>\n",
       "      <td>1519</td>\n",
       "      <td>5.0</td>\n",
       "      <td>10.0</td>\n",
       "      <td>30.0</td>\n",
       "      <td>7.0</td>\n",
       "      <td>1023.5</td>\n",
       "      <td>0.0</td>\n",
       "      <td>0.0</td>\n",
       "      <td>0.0</td>\n",
       "      <td>0.0</td>\n",
       "      <td>Y</td>\n",
       "    </tr>\n",
       "    <tr>\n",
       "      <th>2</th>\n",
       "      <td>2015-01-01 01:00:00</td>\n",
       "      <td>EWR</td>\n",
       "      <td>0</td>\n",
       "      <td>5.0</td>\n",
       "      <td>10.0</td>\n",
       "      <td>30.0</td>\n",
       "      <td>7.0</td>\n",
       "      <td>1023.5</td>\n",
       "      <td>0.0</td>\n",
       "      <td>0.0</td>\n",
       "      <td>0.0</td>\n",
       "      <td>0.0</td>\n",
       "      <td>Y</td>\n",
       "    </tr>\n",
       "    <tr>\n",
       "      <th>3</th>\n",
       "      <td>2015-01-01 01:00:00</td>\n",
       "      <td>Manhattan</td>\n",
       "      <td>5258</td>\n",
       "      <td>5.0</td>\n",
       "      <td>10.0</td>\n",
       "      <td>30.0</td>\n",
       "      <td>7.0</td>\n",
       "      <td>1023.5</td>\n",
       "      <td>0.0</td>\n",
       "      <td>0.0</td>\n",
       "      <td>0.0</td>\n",
       "      <td>0.0</td>\n",
       "      <td>Y</td>\n",
       "    </tr>\n",
       "    <tr>\n",
       "      <th>4</th>\n",
       "      <td>2015-01-01 01:00:00</td>\n",
       "      <td>Queens</td>\n",
       "      <td>405</td>\n",
       "      <td>5.0</td>\n",
       "      <td>10.0</td>\n",
       "      <td>30.0</td>\n",
       "      <td>7.0</td>\n",
       "      <td>1023.5</td>\n",
       "      <td>0.0</td>\n",
       "      <td>0.0</td>\n",
       "      <td>0.0</td>\n",
       "      <td>0.0</td>\n",
       "      <td>Y</td>\n",
       "    </tr>\n",
       "    <tr>\n",
       "      <th>5</th>\n",
       "      <td>2015-01-01 01:00:00</td>\n",
       "      <td>Staten Island</td>\n",
       "      <td>6</td>\n",
       "      <td>5.0</td>\n",
       "      <td>10.0</td>\n",
       "      <td>30.0</td>\n",
       "      <td>7.0</td>\n",
       "      <td>1023.5</td>\n",
       "      <td>0.0</td>\n",
       "      <td>0.0</td>\n",
       "      <td>0.0</td>\n",
       "      <td>0.0</td>\n",
       "      <td>Y</td>\n",
       "    </tr>\n",
       "    <tr>\n",
       "      <th>6</th>\n",
       "      <td>2015-01-01 01:00:00</td>\n",
       "      <td>NaN</td>\n",
       "      <td>4</td>\n",
       "      <td>5.0</td>\n",
       "      <td>10.0</td>\n",
       "      <td>30.0</td>\n",
       "      <td>7.0</td>\n",
       "      <td>1023.5</td>\n",
       "      <td>0.0</td>\n",
       "      <td>0.0</td>\n",
       "      <td>0.0</td>\n",
       "      <td>0.0</td>\n",
       "      <td>Y</td>\n",
       "    </tr>\n",
       "    <tr>\n",
       "      <th>7</th>\n",
       "      <td>2015-01-01 02:00:00</td>\n",
       "      <td>Bronx</td>\n",
       "      <td>120</td>\n",
       "      <td>3.0</td>\n",
       "      <td>10.0</td>\n",
       "      <td>30.0</td>\n",
       "      <td>6.0</td>\n",
       "      <td>1023.0</td>\n",
       "      <td>0.0</td>\n",
       "      <td>0.0</td>\n",
       "      <td>0.0</td>\n",
       "      <td>0.0</td>\n",
       "      <td>Y</td>\n",
       "    </tr>\n",
       "    <tr>\n",
       "      <th>8</th>\n",
       "      <td>2015-01-01 02:00:00</td>\n",
       "      <td>Brooklyn</td>\n",
       "      <td>1229</td>\n",
       "      <td>3.0</td>\n",
       "      <td>10.0</td>\n",
       "      <td>30.0</td>\n",
       "      <td>6.0</td>\n",
       "      <td>1023.0</td>\n",
       "      <td>0.0</td>\n",
       "      <td>0.0</td>\n",
       "      <td>0.0</td>\n",
       "      <td>0.0</td>\n",
       "      <td>Y</td>\n",
       "    </tr>\n",
       "    <tr>\n",
       "      <th>9</th>\n",
       "      <td>2015-01-01 02:00:00</td>\n",
       "      <td>EWR</td>\n",
       "      <td>0</td>\n",
       "      <td>3.0</td>\n",
       "      <td>10.0</td>\n",
       "      <td>30.0</td>\n",
       "      <td>6.0</td>\n",
       "      <td>1023.0</td>\n",
       "      <td>0.0</td>\n",
       "      <td>0.0</td>\n",
       "      <td>0.0</td>\n",
       "      <td>0.0</td>\n",
       "      <td>Y</td>\n",
       "    </tr>\n",
       "  </tbody>\n",
       "</table>\n",
       "</div>"
      ],
      "text/plain": [
       "            pickup_dt        borough  pickups  windspeed  visibility  temp  \\\n",
       "0 2015-01-01 01:00:00          Bronx      152        5.0        10.0  30.0   \n",
       "1 2015-01-01 01:00:00       Brooklyn     1519        5.0        10.0  30.0   \n",
       "2 2015-01-01 01:00:00            EWR        0        5.0        10.0  30.0   \n",
       "3 2015-01-01 01:00:00      Manhattan     5258        5.0        10.0  30.0   \n",
       "4 2015-01-01 01:00:00         Queens      405        5.0        10.0  30.0   \n",
       "5 2015-01-01 01:00:00  Staten Island        6        5.0        10.0  30.0   \n",
       "6 2015-01-01 01:00:00            NaN        4        5.0        10.0  30.0   \n",
       "7 2015-01-01 02:00:00          Bronx      120        3.0        10.0  30.0   \n",
       "8 2015-01-01 02:00:00       Brooklyn     1229        3.0        10.0  30.0   \n",
       "9 2015-01-01 02:00:00            EWR        0        3.0        10.0  30.0   \n",
       "\n",
       "   dewpoint  slpressure  pcp01  pcp06  pcp24  snow holiday  \n",
       "0       7.0      1023.5    0.0    0.0    0.0   0.0       Y  \n",
       "1       7.0      1023.5    0.0    0.0    0.0   0.0       Y  \n",
       "2       7.0      1023.5    0.0    0.0    0.0   0.0       Y  \n",
       "3       7.0      1023.5    0.0    0.0    0.0   0.0       Y  \n",
       "4       7.0      1023.5    0.0    0.0    0.0   0.0       Y  \n",
       "5       7.0      1023.5    0.0    0.0    0.0   0.0       Y  \n",
       "6       7.0      1023.5    0.0    0.0    0.0   0.0       Y  \n",
       "7       6.0      1023.0    0.0    0.0    0.0   0.0       Y  \n",
       "8       6.0      1023.0    0.0    0.0    0.0   0.0       Y  \n",
       "9       6.0      1023.0    0.0    0.0    0.0   0.0       Y  "
      ]
     },
     "execution_count": 19,
     "metadata": {},
     "output_type": "execute_result"
    }
   ],
   "source": [
    "uber.head(10)"
   ]
  },
  {
   "cell_type": "code",
   "execution_count": 4,
   "metadata": {},
   "outputs": [],
   "source": [
    "uber.pickup_dt = pd.to_datetime(uber['pickup_dt'],format='%m/%d/%Y %H:%M')"
   ]
  },
  {
   "cell_type": "code",
   "execution_count": 5,
   "metadata": {},
   "outputs": [
    {
     "data": {
      "text/html": [
       "<div>\n",
       "<style scoped>\n",
       "    .dataframe tbody tr th:only-of-type {\n",
       "        vertical-align: middle;\n",
       "    }\n",
       "\n",
       "    .dataframe tbody tr th {\n",
       "        vertical-align: top;\n",
       "    }\n",
       "\n",
       "    .dataframe thead th {\n",
       "        text-align: right;\n",
       "    }\n",
       "</style>\n",
       "<table border=\"1\" class=\"dataframe\">\n",
       "  <thead>\n",
       "    <tr style=\"text-align: right;\">\n",
       "      <th></th>\n",
       "      <th>pickup_dt</th>\n",
       "      <th>borough</th>\n",
       "      <th>pickups</th>\n",
       "      <th>windspeed</th>\n",
       "      <th>visibility</th>\n",
       "      <th>temp</th>\n",
       "      <th>dewpoint</th>\n",
       "      <th>slpressure</th>\n",
       "      <th>pcp01</th>\n",
       "      <th>pcp06</th>\n",
       "      <th>pcp24</th>\n",
       "      <th>snow</th>\n",
       "      <th>holiday</th>\n",
       "    </tr>\n",
       "  </thead>\n",
       "  <tbody>\n",
       "    <tr>\n",
       "      <th>0</th>\n",
       "      <td>2015-01-01 01:00:00</td>\n",
       "      <td>Bronx</td>\n",
       "      <td>152</td>\n",
       "      <td>5.0</td>\n",
       "      <td>10.0</td>\n",
       "      <td>30.0</td>\n",
       "      <td>7.0</td>\n",
       "      <td>1023.5</td>\n",
       "      <td>0.0</td>\n",
       "      <td>0.0</td>\n",
       "      <td>0.0</td>\n",
       "      <td>0.0</td>\n",
       "      <td>Y</td>\n",
       "    </tr>\n",
       "    <tr>\n",
       "      <th>1</th>\n",
       "      <td>2015-01-01 01:00:00</td>\n",
       "      <td>Brooklyn</td>\n",
       "      <td>1519</td>\n",
       "      <td>5.0</td>\n",
       "      <td>10.0</td>\n",
       "      <td>30.0</td>\n",
       "      <td>7.0</td>\n",
       "      <td>1023.5</td>\n",
       "      <td>0.0</td>\n",
       "      <td>0.0</td>\n",
       "      <td>0.0</td>\n",
       "      <td>0.0</td>\n",
       "      <td>Y</td>\n",
       "    </tr>\n",
       "    <tr>\n",
       "      <th>2</th>\n",
       "      <td>2015-01-01 01:00:00</td>\n",
       "      <td>EWR</td>\n",
       "      <td>0</td>\n",
       "      <td>5.0</td>\n",
       "      <td>10.0</td>\n",
       "      <td>30.0</td>\n",
       "      <td>7.0</td>\n",
       "      <td>1023.5</td>\n",
       "      <td>0.0</td>\n",
       "      <td>0.0</td>\n",
       "      <td>0.0</td>\n",
       "      <td>0.0</td>\n",
       "      <td>Y</td>\n",
       "    </tr>\n",
       "    <tr>\n",
       "      <th>3</th>\n",
       "      <td>2015-01-01 01:00:00</td>\n",
       "      <td>Manhattan</td>\n",
       "      <td>5258</td>\n",
       "      <td>5.0</td>\n",
       "      <td>10.0</td>\n",
       "      <td>30.0</td>\n",
       "      <td>7.0</td>\n",
       "      <td>1023.5</td>\n",
       "      <td>0.0</td>\n",
       "      <td>0.0</td>\n",
       "      <td>0.0</td>\n",
       "      <td>0.0</td>\n",
       "      <td>Y</td>\n",
       "    </tr>\n",
       "    <tr>\n",
       "      <th>4</th>\n",
       "      <td>2015-01-01 01:00:00</td>\n",
       "      <td>Queens</td>\n",
       "      <td>405</td>\n",
       "      <td>5.0</td>\n",
       "      <td>10.0</td>\n",
       "      <td>30.0</td>\n",
       "      <td>7.0</td>\n",
       "      <td>1023.5</td>\n",
       "      <td>0.0</td>\n",
       "      <td>0.0</td>\n",
       "      <td>0.0</td>\n",
       "      <td>0.0</td>\n",
       "      <td>Y</td>\n",
       "    </tr>\n",
       "    <tr>\n",
       "      <th>5</th>\n",
       "      <td>2015-01-01 01:00:00</td>\n",
       "      <td>Staten Island</td>\n",
       "      <td>6</td>\n",
       "      <td>5.0</td>\n",
       "      <td>10.0</td>\n",
       "      <td>30.0</td>\n",
       "      <td>7.0</td>\n",
       "      <td>1023.5</td>\n",
       "      <td>0.0</td>\n",
       "      <td>0.0</td>\n",
       "      <td>0.0</td>\n",
       "      <td>0.0</td>\n",
       "      <td>Y</td>\n",
       "    </tr>\n",
       "    <tr>\n",
       "      <th>6</th>\n",
       "      <td>2015-01-01 01:00:00</td>\n",
       "      <td>NaN</td>\n",
       "      <td>4</td>\n",
       "      <td>5.0</td>\n",
       "      <td>10.0</td>\n",
       "      <td>30.0</td>\n",
       "      <td>7.0</td>\n",
       "      <td>1023.5</td>\n",
       "      <td>0.0</td>\n",
       "      <td>0.0</td>\n",
       "      <td>0.0</td>\n",
       "      <td>0.0</td>\n",
       "      <td>Y</td>\n",
       "    </tr>\n",
       "    <tr>\n",
       "      <th>7</th>\n",
       "      <td>2015-01-01 02:00:00</td>\n",
       "      <td>Bronx</td>\n",
       "      <td>120</td>\n",
       "      <td>3.0</td>\n",
       "      <td>10.0</td>\n",
       "      <td>30.0</td>\n",
       "      <td>6.0</td>\n",
       "      <td>1023.0</td>\n",
       "      <td>0.0</td>\n",
       "      <td>0.0</td>\n",
       "      <td>0.0</td>\n",
       "      <td>0.0</td>\n",
       "      <td>Y</td>\n",
       "    </tr>\n",
       "    <tr>\n",
       "      <th>8</th>\n",
       "      <td>2015-01-01 02:00:00</td>\n",
       "      <td>Brooklyn</td>\n",
       "      <td>1229</td>\n",
       "      <td>3.0</td>\n",
       "      <td>10.0</td>\n",
       "      <td>30.0</td>\n",
       "      <td>6.0</td>\n",
       "      <td>1023.0</td>\n",
       "      <td>0.0</td>\n",
       "      <td>0.0</td>\n",
       "      <td>0.0</td>\n",
       "      <td>0.0</td>\n",
       "      <td>Y</td>\n",
       "    </tr>\n",
       "    <tr>\n",
       "      <th>9</th>\n",
       "      <td>2015-01-01 02:00:00</td>\n",
       "      <td>EWR</td>\n",
       "      <td>0</td>\n",
       "      <td>3.0</td>\n",
       "      <td>10.0</td>\n",
       "      <td>30.0</td>\n",
       "      <td>6.0</td>\n",
       "      <td>1023.0</td>\n",
       "      <td>0.0</td>\n",
       "      <td>0.0</td>\n",
       "      <td>0.0</td>\n",
       "      <td>0.0</td>\n",
       "      <td>Y</td>\n",
       "    </tr>\n",
       "  </tbody>\n",
       "</table>\n",
       "</div>"
      ],
      "text/plain": [
       "            pickup_dt        borough  pickups  windspeed  visibility  temp  \\\n",
       "0 2015-01-01 01:00:00          Bronx      152        5.0        10.0  30.0   \n",
       "1 2015-01-01 01:00:00       Brooklyn     1519        5.0        10.0  30.0   \n",
       "2 2015-01-01 01:00:00            EWR        0        5.0        10.0  30.0   \n",
       "3 2015-01-01 01:00:00      Manhattan     5258        5.0        10.0  30.0   \n",
       "4 2015-01-01 01:00:00         Queens      405        5.0        10.0  30.0   \n",
       "5 2015-01-01 01:00:00  Staten Island        6        5.0        10.0  30.0   \n",
       "6 2015-01-01 01:00:00            NaN        4        5.0        10.0  30.0   \n",
       "7 2015-01-01 02:00:00          Bronx      120        3.0        10.0  30.0   \n",
       "8 2015-01-01 02:00:00       Brooklyn     1229        3.0        10.0  30.0   \n",
       "9 2015-01-01 02:00:00            EWR        0        3.0        10.0  30.0   \n",
       "\n",
       "   dewpoint  slpressure  pcp01  pcp06  pcp24  snow holiday  \n",
       "0       7.0      1023.5    0.0    0.0    0.0   0.0       Y  \n",
       "1       7.0      1023.5    0.0    0.0    0.0   0.0       Y  \n",
       "2       7.0      1023.5    0.0    0.0    0.0   0.0       Y  \n",
       "3       7.0      1023.5    0.0    0.0    0.0   0.0       Y  \n",
       "4       7.0      1023.5    0.0    0.0    0.0   0.0       Y  \n",
       "5       7.0      1023.5    0.0    0.0    0.0   0.0       Y  \n",
       "6       7.0      1023.5    0.0    0.0    0.0   0.0       Y  \n",
       "7       6.0      1023.0    0.0    0.0    0.0   0.0       Y  \n",
       "8       6.0      1023.0    0.0    0.0    0.0   0.0       Y  \n",
       "9       6.0      1023.0    0.0    0.0    0.0   0.0       Y  "
      ]
     },
     "execution_count": 5,
     "metadata": {},
     "output_type": "execute_result"
    }
   ],
   "source": [
    "uber.head(10)"
   ]
  },
  {
   "cell_type": "code",
   "execution_count": 16,
   "metadata": {},
   "outputs": [
    {
     "name": "stdout",
     "output_type": "stream",
     "text": [
      "<class 'pandas.core.frame.DataFrame'>\n",
      "RangeIndex: 29101 entries, 0 to 29100\n",
      "Data columns (total 13 columns):\n",
      "pickup_dt     29101 non-null datetime64[ns]\n",
      "borough       26058 non-null object\n",
      "pickups       29101 non-null int64\n",
      "windspeed     29101 non-null float64\n",
      "visibility    29101 non-null float64\n",
      "temp          29101 non-null float64\n",
      "dewpoint      29101 non-null float64\n",
      "slpressure    29101 non-null float64\n",
      "pcp01         29101 non-null float64\n",
      "pcp06         29101 non-null float64\n",
      "pcp24         29101 non-null float64\n",
      "snow          29101 non-null float64\n",
      "holiday       29101 non-null object\n",
      "dtypes: datetime64[ns](1), float64(9), int64(1), object(2)\n",
      "memory usage: 2.9+ MB\n"
     ]
    }
   ],
   "source": [
    "uber.info()"
   ]
  },
  {
   "cell_type": "code",
   "execution_count": 6,
   "metadata": {},
   "outputs": [],
   "source": [
    "manhattan = uber[uber.borough == \"Manhattan\"]"
   ]
  },
  {
   "cell_type": "code",
   "execution_count": 7,
   "metadata": {},
   "outputs": [
    {
     "data": {
      "image/png": "[encoded data removed]",
      "text/plain": [
       "<matplotlib.figure.Figure at 0x205d713a978>"
      ]
     },
     "metadata": {},
     "output_type": "display_data"
    }
   ],
   "source": [
    "plt.plot(uber.borough, uber.pickups)\n",
    "plt.show()"
   ]
  },
  {
   "cell_type": "code",
   "execution_count": 8,
   "metadata": {},
   "outputs": [
    {
     "data": {
      "image/png": "[encoded data removed]",
      "text/plain": [
       "<matplotlib.figure.Figure at 0x205d738d240>"
      ]
     },
     "metadata": {},
     "output_type": "display_data"
    }
   ],
   "source": [
    "plt.scatter(uber.snow, uber.pickups)\n",
    "plt.show()"
   ]
  },
  {
   "cell_type": "code",
   "execution_count": 9,
   "metadata": {},
   "outputs": [
    {
     "data": {
      "image/png": "[encoded data removed]",
      "text/plain": [
       "<matplotlib.figure.Figure at 0x205db638908>"
      ]
     },
     "metadata": {},
     "output_type": "display_data"
    }
   ],
   "source": [
    "plt.scatter(uber.pcp24, uber.pickups)\n",
    "plt.show()"
   ]
  },
  {
   "cell_type": "code",
   "execution_count": 10,
   "metadata": {},
   "outputs": [
    {
     "data": {
      "image/png": "[encoded data removed]",
      "text/plain": [
       "<matplotlib.figure.Figure at 0x205db5ee358>"
      ]
     },
     "metadata": {},
     "output_type": "display_data"
    }
   ],
   "source": [
    "plt.scatter(uber.pcp01, uber.pickups)\n",
    "plt.show()"
   ]
  },
  {
   "cell_type": "code",
   "execution_count": 11,
   "metadata": {},
   "outputs": [
    {
     "data": {
      "image/png": "[encoded data removed]",
      "text/plain": [
       "<matplotlib.figure.Figure at 0x205db5f5e48>"
      ]
     },
     "metadata": {},
     "output_type": "display_data"
    }
   ],
   "source": [
    "plt.plot(uber.snow)\n",
    "plt.plot(uber.pcp24, color = 'red')\n",
    "plt.plot(uber.temp, color = 'green')\n",
    "plt.show()"
   ]
  },
  {
   "cell_type": "code",
   "execution_count": 12,
   "metadata": {},
   "outputs": [
    {
     "data": {
      "image/png": "[encoded data removed]",
      "text/plain": [
       "<matplotlib.figure.Figure at 0x205db6f2550>"
      ]
     },
     "metadata": {},
     "output_type": "display_data"
    }
   ],
   "source": [
    "plt.scatter(uber.resample('D', on='pickup_dt').temp.mean(), uber.resample('D', on='pickup_dt').pickups.mean())\n",
    "plt.show()"
   ]
  },
  {
   "cell_type": "code",
   "execution_count": 13,
   "metadata": {},
   "outputs": [
    {
     "data": {
      "image/png": "[encoded data removed]",
      "text/plain": [
       "<matplotlib.figure.Figure at 0x205db7cd5c0>"
      ]
     },
     "metadata": {},
     "output_type": "display_data"
    }
   ],
   "source": [
    "plt.scatter(uber.resample('D', on='pickup_dt').dewpoint.mean(), uber.resample('D', on='pickup_dt').pickups.mean())\n",
    "plt.show()"
   ]
  },
  {
   "cell_type": "code",
   "execution_count": 14,
   "metadata": {},
   "outputs": [
    {
     "data": {
      "text/plain": [
       "borough    holiday\n",
       "Bronx      N            50.771073\n",
       "           Y            48.065868\n",
       "Brooklyn   N           534.727969\n",
       "           Y           527.011976\n",
       "EWR        N             0.023467\n",
       "           Y             0.041916\n",
       "Manhattan  N          2401.302921\n",
       "           Y          2035.928144\n",
       "Queens     N           308.899904\n",
       "           Y           320.730539\n",
       "Name: pickups, dtype: float64"
      ]
     },
     "execution_count": 14,
     "metadata": {},
     "output_type": "execute_result"
    }
   ],
   "source": [
    "ahpu = uber.groupby(['borough', 'holiday']).pickups.mean()\n",
    "ahpu.head(10)"
   ]
  },
  {
   "cell_type": "code",
   "execution_count": 15,
   "metadata": {},
   "outputs": [
    {
     "data": {
      "text/plain": [
       "pickup_dt\n",
       "2015-01-31    397.755360\n",
       "2015-02-28    503.879564\n",
       "2015-03-31    456.265887\n",
       "2015-04-30    475.165069\n",
       "2015-05-31    533.143140\n",
       "2015-06-30    574.882221\n",
       "Freq: M, Name: pickups, dtype: float64"
      ]
     },
     "execution_count": 15,
     "metadata": {},
     "output_type": "execute_result"
    }
   ],
   "source": [
    "uber.resample('M', on='pickup_dt').pickups.mean()"
   ]
  },
  {
   "cell_type": "markdown",
   "metadata": {},
   "source": [
    "# Data Modeling"
   ]
  },
  {
   "cell_type": "code",
   "execution_count": null,
   "metadata": {},
   "outputs": [],
   "source": []
  },
  {
   "cell_type": "code",
   "execution_count": null,
   "metadata": {},
   "outputs": [],
   "source": []
  },
  {
   "cell_type": "code",
   "execution_count": null,
   "metadata": {},
   "outputs": [],
   "source": []
  }
 ],
 "metadata": {
  "kernelspec": {
   "display_name": "Python 3",
   "language": "python",
   "name": "python3"
  },
  "language_info": {
   "codemirror_mode": {
    "name": "ipython",
    "version": 3
   },
   "file_extension": ".py",
   "mimetype": "text/x-python",
   "name": "python",
   "nbconvert_exporter": "python",
   "pygments_lexer": "ipython3",
   "version": "3.6.4"
  }
 },
 "nbformat": 4,
 "nbformat_minor": 2
}
